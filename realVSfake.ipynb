{
 "cells": [
  {
   "attachments": {},
   "cell_type": "markdown",
   "metadata": {},
   "source": [
    "# **Imports**"
   ]
  },
  {
   "cell_type": "code",
   "execution_count": 1,
   "metadata": {},
   "outputs": [],
   "source": [
    "import numpy as np\n",
    "import pandas as pd\n",
    "import cv2\n",
    "import matplotlib.pyplot as plt\n",
    "import os \n",
    "from sklearn import svm\n",
    "import pickle\n",
    "\n"
   ]
  },
  {
   "attachments": {},
   "cell_type": "markdown",
   "metadata": {},
   "source": [
    "# **Load Data**"
   ]
  },
  {
   "cell_type": "code",
   "execution_count": 2,
   "metadata": {},
   "outputs": [],
   "source": [
    "def toNumpy(x_train, y_train, x_test, y_test):\n",
    "    for i in x_train.keys():\n",
    "        x_train[i] = np.array(x_train[i])\n",
    "        y_train[i] = np.array(y_train[i])\n",
    "    for i in x_test.keys():\n",
    "        x_test[i] = np.array(x_test[i])\n",
    "        y_test[i] = np.array(y_test[i])\n",
    "    return x_train, y_train, x_test, y_test\n",
    "    "
   ]
  },
  {
   "cell_type": "code",
   "execution_count": 3,
   "metadata": {},
   "outputs": [],
   "source": [
    "def loadData(folders_name:list):\n",
    "    x_train = {}\n",
    "    y_train = {}\n",
    "    x_test =  {}\n",
    "    y_test =  {}\n",
    "    \n",
    "    for name in folders_name:        \n",
    "        path = f\".\\\\data\\\\{name}\\\\Train\\\\\" \n",
    "        data = pd.read_csv(path+f\"{name}_SigVerificationTrainLabels.csv\") \n",
    "        data  = data.loc[:,[\"image_name\",\"label\"]].astype(str)\n",
    "        data = data.reset_index() \n",
    "        # li =labels.loc[:,[\"label\"]].astype(str)\n",
    "        x_train[name] = []\n",
    "        y_train[name] = []\n",
    "        x_test[name] =  []\n",
    "        y_test[name] =  []\n",
    "\n",
    "        # print(data.head())\n",
    "        for i,r in data.iterrows():\n",
    "\n",
    "            imgName = str(r[\"image_name\"])\n",
    "            img=cv2.imread(path+imgName, 0)\n",
    "            # img = img.astype(np.float32)    \n",
    "            x_train[name].append(img)\n",
    "            \n",
    "            l =  str(r[\"label\"])\n",
    "            y_train[name].append(1) if l == \"real\" else y_train[name].append(0) \n",
    "            \n",
    "        \"#====================================================================================\" \n",
    "        \n",
    "        path = f\".\\\\data\\\\{name}\\\\Test\\\\\" \n",
    "        data = pd.read_csv(path+f\"{name}_SigVerificationTestLabels.csv\")\n",
    "        data = data.reset_index()  \n",
    "        data  = data.loc[:,[\"image_name\",\"label\"]].astype(str)\n",
    "        data = data.reset_index()\n",
    "        \n",
    "        for i,r in data.iterrows():\n",
    "            imgName = str(r[\"image_name\"])\n",
    "            img=cv2.imread(path+imgName, 0)\n",
    "            # img = img.astype(np.float32)       \n",
    "            x_test[name].append(img)\n",
    "            \n",
    "            l =  str(r[\"label\"])\n",
    "            y_test[name].append(1) if l == \"real\" else y_test[name].append(0) \n",
    "            \n",
    "            \n",
    "            \n",
    "    return toNumpy(x_train, y_train, x_test, y_test)"
   ]
  },
  {
   "attachments": {},
   "cell_type": "markdown",
   "metadata": {},
   "source": [
    "#   **Extract Features**"
   ]
  },
  {
   "cell_type": "code",
   "execution_count": 4,
   "metadata": {},
   "outputs": [],
   "source": [
    "def normalization(features:np.ndarray, o):\n",
    "    if o == 1:\n",
    "        m = features.mean(axis=1)\n",
    "        s = features.std(axis=1) \n",
    "        features = (features.T-m)/(s+1e-7)\n",
    "        return features.T.flatten()\n",
    "    if features.ndim > 1:\n",
    "        features = features.flatten()\n",
    "    m = features.mean()\n",
    "    s = features.std()\n",
    "    return (features-m)/(s+1e-7)\n"
   ]
  },
  {
   "cell_type": "code",
   "execution_count": 5,
   "metadata": {},
   "outputs": [],
   "source": [
    "def featureExtractionM(img,o=0):\n",
    "    features=0\n",
    "    if o == 0: \n",
    "        hog = cv2.HOGDescriptor()\n",
    "        img= cv2.resize(img, (64,128))\n",
    "        features = hog.compute(img)\n",
    "        features = normalization(features, o)\n",
    "\n",
    "    elif o == 1:\n",
    "        sift = cv2.SIFT_create()\n",
    "        img= cv2.resize(img, (128,128))\n",
    "        kp1, features = sift.detectAndCompute(img,None)\n",
    "        if features.shape[0]<=64:\n",
    "            features = np.concatenate([features,np.zeros((64-features.shape[0],128))], axis = 0)\n",
    "        else:\n",
    "            features = features[0:64,:]\n",
    "        features = normalization(features, o)\n",
    "\n",
    "    elif o == 2:\n",
    "        img= cv2.resize(img, (64,32))\n",
    "        features = cv2.Canny(img, 32, 128)\n",
    "        features = normalization(features, o)\n",
    "        \n",
    "    elif o == 3:\n",
    "        img= cv2.resize(img, (128,64))\n",
    "        dst = cv2.GaussianBlur(img,(3,3),cv2.BORDER_DEFAULT,sigmaX=0.1,sigmaY=0.1)\n",
    "        featuresX = cv2.Sobel(src=dst, ddepth=cv2.CV_64F, dx=1, dy=0, ksize=5) # Sobel Edge Detection on the X axis\n",
    "        featuresY = cv2.Sobel(src=dst, ddepth=cv2.CV_64F, dx=0, dy=1, ksize=5) # Sobel Edge Detection on the Y axis\n",
    "        features =np.arctan(featuresY/(featuresX+1e-7))\n",
    "        # sobelxy = cv2.Sobel(src=dst, ddepth=cv2.CV_64F, dx=1, dy=1, ksize=5) # Combined X and Y Sobel Edge Detection\n",
    "        features = normalization(features, o)        \n",
    "        \n",
    "    elif o == 4:\n",
    "        img= cv2.resize(img, (128,64))\n",
    "        dst = cv2.GaussianBlur(img,(3,3),cv2.BORDER_DEFAULT,sigmaX=0.1,sigmaY=0.1)\n",
    "        featuresX = cv2.Sobel(src=dst, ddepth=cv2.CV_64F, dx=1, dy=0, ksize=5) # Sobel Edge Detection on the X axis\n",
    "        featuresY = cv2.Sobel(src=dst, ddepth=cv2.CV_64F, dx=0, dy=1, ksize=5) # Sobel Edge Detection on the Y axis\n",
    "        features = featuresY + featuresX\n",
    "        features = normalization(features, o) \n",
    "        \n",
    "    elif o == 5:\n",
    "        img = np.float32(img)\n",
    "        features = cv2.cornerHarris(img,2,3,0.04)\n",
    "        #result is dilated for marking the corners, not important\n",
    "        features = cv2.dilate(features,None) \n",
    "        features = normalization(features, o)    \n",
    "        features = features[features>0.01]  \n",
    "        if features.shape[0]<=15000:\n",
    "            features = np.concatenate([features,np.zeros((15000-features.shape[0]))], axis = 0)\n",
    "        else:\n",
    "            features = features[0:15000]\n",
    "    return features\n"
   ]
  },
  {
   "cell_type": "code",
   "execution_count": 6,
   "metadata": {},
   "outputs": [],
   "source": [
    "def extract(x_train,x_test, o=0):\n",
    "    for name in x_train.keys():\n",
    "        x_featuresTrain = []\n",
    "        for i in x_train[name]:\n",
    "            f = featureExtractionM(i,o)\n",
    "            x_featuresTrain.append(f)\n",
    "        x_train[name] = np.array(x_featuresTrain)\n",
    "        \n",
    "        x_featuresTest = []   \n",
    "        for i in x_test[name]:\n",
    "            f = featureExtractionM(i,o)\n",
    "            x_featuresTest.append(f)\n",
    "        x_test[name] = np.array(x_featuresTest)\n",
    "    return x_train,x_test"
   ]
  },
  {
   "attachments": {},
   "cell_type": "markdown",
   "metadata": {},
   "source": [
    "#   **Svm Classifier**"
   ]
  },
  {
   "cell_type": "code",
   "execution_count": 7,
   "metadata": {},
   "outputs": [],
   "source": [
    "def buildSvm(x_train, y_train):\n",
    "    Svms = {}\n",
    "    for name in x_train.keys():\n",
    "        Svms[name] = svm.SVC(C=10,kernel=\"rbf\",gamma=\"auto\", )\n",
    "        Svms[name].fit(x_train[name], y_train[name])\n",
    "    return Svms"
   ]
  },
  {
   "cell_type": "code",
   "execution_count": 8,
   "metadata": {},
   "outputs": [],
   "source": [
    "def score(Svms, x, y):\n",
    "    scores={}\n",
    "    for name in x.keys():\n",
    "       scores[name] = Svms[name].score(x[name] , y[name])\n",
    "    return scores"
   ]
  },
  {
   "attachments": {},
   "cell_type": "markdown",
   "metadata": {},
   "source": [
    "#   **Test**"
   ]
  },
  {
   "cell_type": "code",
   "execution_count": 9,
   "metadata": {},
   "outputs": [],
   "source": [
    "folders_name=[\"personA\",\"personB\",\"personC\",\"personD\",\"personE\"]"
   ]
  },
  {
   "cell_type": "code",
   "execution_count": 10,
   "metadata": {},
   "outputs": [
    {
     "name": "stderr",
     "output_type": "stream",
     "text": [
      "C:\\Users\\Hassan\\AppData\\Local\\Temp\\ipykernel_4444\\3107238934.py:3: VisibleDeprecationWarning: Creating an ndarray from ragged nested sequences (which is a list-or-tuple of lists-or-tuples-or ndarrays with different lengths or shapes) is deprecated. If you meant to do this, you must specify 'dtype=object' when creating the ndarray.\n",
      "  x_train[i] = np.array(x_train[i])\n",
      "C:\\Users\\Hassan\\AppData\\Local\\Temp\\ipykernel_4444\\3107238934.py:6: VisibleDeprecationWarning: Creating an ndarray from ragged nested sequences (which is a list-or-tuple of lists-or-tuples-or ndarrays with different lengths or shapes) is deprecated. If you meant to do this, you must specify 'dtype=object' when creating the ndarray.\n",
      "  x_test[i] = np.array(x_test[i])\n"
     ]
    }
   ],
   "source": [
    "x_train, y_train, x_test, y_test = loadData(folders_name)"
   ]
  },
  {
   "cell_type": "code",
   "execution_count": 11,
   "metadata": {},
   "outputs": [],
   "source": [
    "x_train,x_test = extract(x_train,x_test, o=0)"
   ]
  },
  {
   "cell_type": "code",
   "execution_count": 12,
   "metadata": {},
   "outputs": [
    {
     "data": {
      "text/plain": [
       "(3780,)"
      ]
     },
     "execution_count": 12,
     "metadata": {},
     "output_type": "execute_result"
    }
   ],
   "source": [
    "x_train[\"personA\"][2].shape"
   ]
  },
  {
   "cell_type": "code",
   "execution_count": 12,
   "metadata": {},
   "outputs": [],
   "source": [
    "Svms = buildSvm(x_train, y_train)"
   ]
  },
  {
   "cell_type": "code",
   "execution_count": 13,
   "metadata": {},
   "outputs": [],
   "source": [
    "strain = score(Svms, x_train, y_train)\n",
    "stest = score(Svms, x_test, y_test)"
   ]
  },
  {
   "cell_type": "code",
   "execution_count": 14,
   "metadata": {},
   "outputs": [
    {
     "data": {
      "text/plain": [
       "({'personA': 1.0,\n",
       "  'personB': 1.0,\n",
       "  'personC': 1.0,\n",
       "  'personD': 1.0,\n",
       "  'personE': 1.0},\n",
       " '=================\\n',\n",
       " {'personA': 0.875,\n",
       "  'personB': 0.625,\n",
       "  'personC': 1.0,\n",
       "  'personD': 0.875,\n",
       "  'personE': 1.0})"
      ]
     },
     "execution_count": 14,
     "metadata": {},
     "output_type": "execute_result"
    }
   ],
   "source": [
    "strain,'=================\\n', stest"
   ]
  },
  {
   "cell_type": "code",
   "execution_count": 16,
   "metadata": {},
   "outputs": [],
   "source": [
    "pickle.dump(Svms, open(\"part2.pkl\", 'wb'))"
   ]
  },
  {
   "cell_type": "code",
   "execution_count": null,
   "metadata": {},
   "outputs": [],
   "source": []
  },
  {
   "attachments": {},
   "cell_type": "markdown",
   "metadata": {},
   "source": [
    "# **===================================**"
   ]
  },
  {
   "cell_type": "code",
   "execution_count": 17,
   "metadata": {},
   "outputs": [],
   "source": [
    "x_featuresTrain = []\n",
    "y_featuresTrain = []\n",
    "for name in x_train.keys():\n",
    "    x_featuresTrain.extend(x_train[name])\n",
    "    y_featuresTrain.extend(y_train[name])"
   ]
  },
  {
   "cell_type": "code",
   "execution_count": 18,
   "metadata": {},
   "outputs": [],
   "source": [
    "x_featuresTest = []\n",
    "y_featuresTest = []\n",
    "for name in x_test.keys():\n",
    "    x_featuresTest.extend(x_test[name])\n",
    "    y_featuresTest.extend(y_test[name])"
   ]
  },
  {
   "cell_type": "code",
   "execution_count": 19,
   "metadata": {},
   "outputs": [
    {
     "data": {
      "text/html": [
       "<style>#sk-container-id-1 {color: black;background-color: white;}#sk-container-id-1 pre{padding: 0;}#sk-container-id-1 div.sk-toggleable {background-color: white;}#sk-container-id-1 label.sk-toggleable__label {cursor: pointer;display: block;width: 100%;margin-bottom: 0;padding: 0.3em;box-sizing: border-box;text-align: center;}#sk-container-id-1 label.sk-toggleable__label-arrow:before {content: \"▸\";float: left;margin-right: 0.25em;color: #696969;}#sk-container-id-1 label.sk-toggleable__label-arrow:hover:before {color: black;}#sk-container-id-1 div.sk-estimator:hover label.sk-toggleable__label-arrow:before {color: black;}#sk-container-id-1 div.sk-toggleable__content {max-height: 0;max-width: 0;overflow: hidden;text-align: left;background-color: #f0f8ff;}#sk-container-id-1 div.sk-toggleable__content pre {margin: 0.2em;color: black;border-radius: 0.25em;background-color: #f0f8ff;}#sk-container-id-1 input.sk-toggleable__control:checked~div.sk-toggleable__content {max-height: 200px;max-width: 100%;overflow: auto;}#sk-container-id-1 input.sk-toggleable__control:checked~label.sk-toggleable__label-arrow:before {content: \"▾\";}#sk-container-id-1 div.sk-estimator input.sk-toggleable__control:checked~label.sk-toggleable__label {background-color: #d4ebff;}#sk-container-id-1 div.sk-label input.sk-toggleable__control:checked~label.sk-toggleable__label {background-color: #d4ebff;}#sk-container-id-1 input.sk-hidden--visually {border: 0;clip: rect(1px 1px 1px 1px);clip: rect(1px, 1px, 1px, 1px);height: 1px;margin: -1px;overflow: hidden;padding: 0;position: absolute;width: 1px;}#sk-container-id-1 div.sk-estimator {font-family: monospace;background-color: #f0f8ff;border: 1px dotted black;border-radius: 0.25em;box-sizing: border-box;margin-bottom: 0.5em;}#sk-container-id-1 div.sk-estimator:hover {background-color: #d4ebff;}#sk-container-id-1 div.sk-parallel-item::after {content: \"\";width: 100%;border-bottom: 1px solid gray;flex-grow: 1;}#sk-container-id-1 div.sk-label:hover label.sk-toggleable__label {background-color: #d4ebff;}#sk-container-id-1 div.sk-serial::before {content: \"\";position: absolute;border-left: 1px solid gray;box-sizing: border-box;top: 0;bottom: 0;left: 50%;z-index: 0;}#sk-container-id-1 div.sk-serial {display: flex;flex-direction: column;align-items: center;background-color: white;padding-right: 0.2em;padding-left: 0.2em;position: relative;}#sk-container-id-1 div.sk-item {position: relative;z-index: 1;}#sk-container-id-1 div.sk-parallel {display: flex;align-items: stretch;justify-content: center;background-color: white;position: relative;}#sk-container-id-1 div.sk-item::before, #sk-container-id-1 div.sk-parallel-item::before {content: \"\";position: absolute;border-left: 1px solid gray;box-sizing: border-box;top: 0;bottom: 0;left: 50%;z-index: -1;}#sk-container-id-1 div.sk-parallel-item {display: flex;flex-direction: column;z-index: 1;position: relative;background-color: white;}#sk-container-id-1 div.sk-parallel-item:first-child::after {align-self: flex-end;width: 50%;}#sk-container-id-1 div.sk-parallel-item:last-child::after {align-self: flex-start;width: 50%;}#sk-container-id-1 div.sk-parallel-item:only-child::after {width: 0;}#sk-container-id-1 div.sk-dashed-wrapped {border: 1px dashed gray;margin: 0 0.4em 0.5em 0.4em;box-sizing: border-box;padding-bottom: 0.4em;background-color: white;}#sk-container-id-1 div.sk-label label {font-family: monospace;font-weight: bold;display: inline-block;line-height: 1.2em;}#sk-container-id-1 div.sk-label-container {text-align: center;}#sk-container-id-1 div.sk-container {/* jupyter's `normalize.less` sets `[hidden] { display: none; }` but bootstrap.min.css set `[hidden] { display: none !important; }` so we also need the `!important` here to be able to override the default hidden behavior on the sphinx rendered scikit-learn.org. See: https://github.com/scikit-learn/scikit-learn/issues/21755 */display: inline-block !important;position: relative;}#sk-container-id-1 div.sk-text-repr-fallback {display: none;}</style><div id=\"sk-container-id-1\" class=\"sk-top-container\"><div class=\"sk-text-repr-fallback\"><pre>SVC(C=10, gamma=&#x27;auto&#x27;)</pre><b>In a Jupyter environment, please rerun this cell to show the HTML representation or trust the notebook. <br />On GitHub, the HTML representation is unable to render, please try loading this page with nbviewer.org.</b></div><div class=\"sk-container\" hidden><div class=\"sk-item\"><div class=\"sk-estimator sk-toggleable\"><input class=\"sk-toggleable__control sk-hidden--visually\" id=\"sk-estimator-id-1\" type=\"checkbox\" checked><label for=\"sk-estimator-id-1\" class=\"sk-toggleable__label sk-toggleable__label-arrow\">SVC</label><div class=\"sk-toggleable__content\"><pre>SVC(C=10, gamma=&#x27;auto&#x27;)</pre></div></div></div></div></div>"
      ],
      "text/plain": [
       "SVC(C=10, gamma='auto')"
      ]
     },
     "execution_count": 19,
     "metadata": {},
     "output_type": "execute_result"
    }
   ],
   "source": [
    "s = svm.SVC(C=10,kernel=\"rbf\",gamma=\"auto\", )\n",
    "s.fit(x_featuresTrain, y_featuresTrain)"
   ]
  },
  {
   "cell_type": "code",
   "execution_count": 20,
   "metadata": {},
   "outputs": [
    {
     "data": {
      "text/plain": [
       "1.0"
      ]
     },
     "execution_count": 20,
     "metadata": {},
     "output_type": "execute_result"
    }
   ],
   "source": [
    "s.score(x_featuresTrain , y_featuresTrain)\n"
   ]
  },
  {
   "cell_type": "code",
   "execution_count": 21,
   "metadata": {},
   "outputs": [
    {
     "data": {
      "text/plain": [
       "0.85"
      ]
     },
     "execution_count": 21,
     "metadata": {},
     "output_type": "execute_result"
    }
   ],
   "source": [
    "s.score(x_featuresTest , y_featuresTest)"
   ]
  },
  {
   "cell_type": "code",
   "execution_count": null,
   "metadata": {},
   "outputs": [],
   "source": [
    "pickle.dump(s, open(\"part2_2.pkl\", 'wb'))"
   ]
  },
  {
   "cell_type": "code",
   "execution_count": 40,
   "metadata": {},
   "outputs": [
    {
     "data": {
      "text/plain": [
       "<Figure size 1200x1000 with 0 Axes>"
      ]
     },
     "metadata": {},
     "output_type": "display_data"
    },
    {
     "data": {
      "image/png": "[encoded data removed]",
      "text/plain": [
       "<Figure size 640x480 with 8 Axes>"
      ]
     },
     "metadata": {},
     "output_type": "display_data"
    }
   ],
   "source": [
    "fig = plt.figure(figsize=(12, 10))\n",
    "figg,ax = plt.subplots(8)"
   ]
  },
  {
   "cell_type": "code",
   "execution_count": 65,
   "metadata": {},
   "outputs": [
    {
     "data": {
      "image/png": "[encoded data removed]",
      "text/plain": [
       "<Figure size 640x480 with 1 Axes>"
      ]
     },
     "metadata": {},
     "output_type": "display_data"
    }
   ],
   "source": [
    "x =  cv2.imread(\"data/personC/Test/personC_8.png\",0)\n",
    "f = featureExtractionM(x,o=0)\n",
    "s = Svms[\"personC\"].predict(np.reshape(f,(1,-1)))\n",
    "x= cv2.resize(x, (128,128))\n",
    "plt.imshow(x)\n",
    "plt.title(\"forged_personC_8.png\"if s == 0 else \"real_personC_8.png\")\n",
    "\n",
    "\n",
    "plt.show()"
   ]
  },
  {
   "cell_type": "code",
   "execution_count": null,
   "metadata": {},
   "outputs": [],
   "source": []
  }
 ],
 "metadata": {
  "kernelspec": {
   "display_name": "env",
   "language": "python",
   "name": "python3"
  },
  "language_info": {
   "codemirror_mode": {
    "name": "ipython",
    "version": 3
   },
   "file_extension": ".py",
   "mimetype": "text/x-python",
   "name": "python",
   "nbconvert_exporter": "python",
   "pygments_lexer": "ipython3",
   "version": "3.10.9"
  },
  "orig_nbformat": 4,
  "vscode": {
   "interpreter": {
    "hash": "69f2af9667b3aee16a0e64ccfd54dc35db6d29042fedc7b9ffa5a98b188aebec"
   }
  }
 },
 "nbformat": 4,
 "nbformat_minor": 2
}
