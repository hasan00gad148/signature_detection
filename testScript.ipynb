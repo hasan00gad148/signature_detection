{
 "cells": [
  {
   "cell_type": "code",
   "execution_count": 2,
   "metadata": {},
   "outputs": [],
   "source": [
    "import glob\n",
    "import cv2\n",
    "import matplotlib.pyplot as plt\n",
    "%matplotlib inline\n",
    "import numpy as np\n",
    "import pandas as pd\n",
    "import tensorflow as tf\n",
    "from tensorflow.keras import layers,models\n",
    "from sklearn.metrics import classification_report, confusion_matrix\n",
    "import os \n",
    "import pickle\n",
    "\n",
    "from sklearn import svm"
   ]
  },
  {
   "cell_type": "markdown",
   "metadata": {},
   "source": []
  },
  {
   "cell_type": "code",
   "execution_count": 3,
   "metadata": {},
   "outputs": [],
   "source": [
    "def loadData(path):\n",
    "    imgBGR2 = cv2.imread(\"data/personA/Test/personA_29.png\")\n",
    "    imgBGR2 = cv2.resize(imgBGR2,(300,300))\n",
    "    imgGray2 = cv2.cvtColor(imgBGR2, cv2.COLOR_BGR2GRAY)\n",
    "    return imgBGR2,imgGray2"
   ]
  },
  {
   "cell_type": "code",
   "execution_count": 4,
   "metadata": {},
   "outputs": [],
   "source": [
    "def laodModels():\n",
    "    cnnClassification = models.load_model('./part1Model')\n",
    "    svms = pickle.load(open(\"part2.pkl\", 'rb'))\n",
    "    s = pickle.load(open(\"part2_2.pkl\", 'rb'))\n",
    "    return cnnClassification,svms,s\n"
   ]
  },
  {
   "cell_type": "code",
   "execution_count": 5,
   "metadata": {},
   "outputs": [],
   "source": [
    "def normalization(features:np.ndarray, o):\n",
    "    if o == 1:\n",
    "        m = features.mean(axis=1)\n",
    "        s = features.std(axis=1) \n",
    "        features = (features.T-m)/(s+1e-7)\n",
    "        return features.T.flatten()\n",
    "    if features.ndim > 1:\n",
    "        features = features.flatten()\n",
    "    m = features.mean()\n",
    "    s = features.std()\n",
    "    return (features-m)/(s+1e-7)"
   ]
  },
  {
   "cell_type": "code",
   "execution_count": 6,
   "metadata": {},
   "outputs": [],
   "source": [
    "def featureExtractionM(img,o=0):\n",
    "    features=0\n",
    "    if o == 0: \n",
    "        hog = cv2.HOGDescriptor()\n",
    "        img= cv2.resize(img, (64,128))\n",
    "        features = hog.compute(img)\n",
    "        features = normalization(features, o)\n",
    "\n",
    "    elif o == 1:\n",
    "        sift = cv2.SIFT_create()\n",
    "        img= cv2.resize(img, (128,128))\n",
    "        kp1, features = sift.detectAndCompute(img,None)\n",
    "        if features.shape[0]<=64:\n",
    "            features = np.concatenate([features,np.zeros((64-features.shape[0],128))], axis = 0)\n",
    "        else:\n",
    "            features = features[0:64,:]\n",
    "        features = normalization(features, o)\n",
    "\n",
    "    elif o == 2:\n",
    "        img= cv2.resize(img, (64,32))\n",
    "        features = cv2.Canny(img, 32, 128)\n",
    "        features = normalization(features, o)\n",
    "        \n",
    "    elif o == 3:\n",
    "        img= cv2.resize(img, (128,64))\n",
    "        dst = cv2.GaussianBlur(img,(3,3),cv2.BORDER_DEFAULT,sigmaX=0.1,sigmaY=0.1)\n",
    "        featuresX = cv2.Sobel(src=dst, ddepth=cv2.CV_64F, dx=1, dy=0, ksize=5) # Sobel Edge Detection on the X axis\n",
    "        featuresY = cv2.Sobel(src=dst, ddepth=cv2.CV_64F, dx=0, dy=1, ksize=5) # Sobel Edge Detection on the Y axis\n",
    "        features =np.arctan(featuresY/(featuresX+1e-7))\n",
    "        # sobelxy = cv2.Sobel(src=dst, ddepth=cv2.CV_64F, dx=1, dy=1, ksize=5) # Combined X and Y Sobel Edge Detection\n",
    "        features = normalization(features, o)        \n",
    "        \n",
    "    elif o == 4:\n",
    "        img= cv2.resize(img, (128,64))\n",
    "        dst = cv2.GaussianBlur(img,(3,3),cv2.BORDER_DEFAULT,sigmaX=0.1,sigmaY=0.1)\n",
    "        featuresX = cv2.Sobel(src=dst, ddepth=cv2.CV_64F, dx=1, dy=0, ksize=5) # Sobel Edge Detection on the X axis\n",
    "        featuresY = cv2.Sobel(src=dst, ddepth=cv2.CV_64F, dx=0, dy=1, ksize=5) # Sobel Edge Detection on the Y axis\n",
    "        features = featuresY + featuresX\n",
    "        features = normalization(features, o) \n",
    "        \n",
    "    elif o == 5:\n",
    "        img = np.float32(img)\n",
    "        features = cv2.cornerHarris(img,2,3,0.04)\n",
    "        #result is dilated for marking the corners, not important\n",
    "        features = cv2.dilate(features,None) \n",
    "        features = normalization(features, o)    \n",
    "        features = features[features>0.01]  \n",
    "        if features.shape[0]<=15000:\n",
    "            features = np.concatenate([features,np.zeros((15000-features.shape[0]))], axis = 0)\n",
    "        else:\n",
    "            features = features[0:15000]\n",
    "    return features\n"
   ]
  },
  {
   "cell_type": "code",
   "execution_count": 11,
   "metadata": {},
   "outputs": [],
   "source": [
    "def detect(cnn,svms,svm,bgr,gray):\n",
    "    c = np.argmax(cnn.predict_step(np.reshape(bgr/255,(1,300,300,3))))\n",
    "    X_features = featureExtractionM(gray,o=0)\n",
    "    names = [\"personA\",\"personB\",\"personC\",\"personD\",\"personE\"]\n",
    "    svm = svms[names[c]]\n",
    "    s = svm.predict(np.reshape(X_features,(1,-1)))\n",
    "    return c, s[0]"
   ]
  },
  {
   "cell_type": "code",
   "execution_count": 12,
   "metadata": {},
   "outputs": [],
   "source": [
    "bgr, gray =loadData(\"data/personA/Test/personA_29.png\")"
   ]
  },
  {
   "cell_type": "code",
   "execution_count": 13,
   "metadata": {},
   "outputs": [],
   "source": [
    "cnn,svms,s =laodModels()"
   ]
  },
  {
   "cell_type": "code",
   "execution_count": 14,
   "metadata": {},
   "outputs": [
    {
     "data": {
      "text/plain": [
       "(0, 1)"
      ]
     },
     "execution_count": 14,
     "metadata": {},
     "output_type": "execute_result"
    }
   ],
   "source": [
    "detect(cnn,svms,svm,bgr,gray)"
   ]
  }
 ],
 "metadata": {
  "kernelspec": {
   "display_name": "env",
   "language": "python",
   "name": "python3"
  },
  "language_info": {
   "codemirror_mode": {
    "name": "ipython",
    "version": 3
   },
   "file_extension": ".py",
   "mimetype": "text/x-python",
   "name": "python",
   "nbconvert_exporter": "python",
   "pygments_lexer": "ipython3",
   "version": "3.10.9"
  },
  "orig_nbformat": 4,
  "vscode": {
   "interpreter": {
    "hash": "69f2af9667b3aee16a0e64ccfd54dc35db6d29042fedc7b9ffa5a98b188aebec"
   }
  }
 },
 "nbformat": 4,
 "nbformat_minor": 2
}
